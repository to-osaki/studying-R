{
 "cells": [
  {
   "cell_type": "code",
   "execution_count": null,
   "metadata": {},
   "outputs": [],
   "source": [
    "library(RMeCab)\n",
    "library(dplyr)\n",
    "library(rvest)\n",
    "library(ngram)"
   ]
  },
  {
   "cell_type": "code",
   "execution_count": null,
   "metadata": {},
   "outputs": [],
   "source": [
    "top = read_html(\"https://blogs.unity3d.com/2020/12/28/happy-holidays-from-the-unity-ml-agents-team/\")"
   ]
  },
  {
   "cell_type": "code",
   "execution_count": null,
   "metadata": {},
   "outputs": [],
   "source": [
    "titles = top %>% html_nodes(xpath = \"//span\") %>% html_text()\n",
    "typeof(titles)"
   ]
  },
  {
   "cell_type": "code",
   "execution_count": null,
   "metadata": {},
   "outputs": [],
   "source": [
    "wordcount(titles, sep = \" \", count.function = sum)"
   ]
  },
  {
   "cell_type": "code",
   "execution_count": null,
   "metadata": {},
   "outputs": [],
   "source": [
    "result = docMatrix(\"C:/Users/puris/R/20data/Data/C15sjis\", pos = c(\"連体詞\", \"副詞\"))"
   ]
  },
  {
   "cell_type": "code",
   "execution_count": null,
   "metadata": {},
   "outputs": [],
   "source": [
    "result[ rownames(result) !=  \"[[LESS-THAN-1]]\" , ]\n",
    "result[ rownames(result) !=  \"[[TOTAL-TOKENS]]\" , ]"
   ]
  },
  {
   "cell_type": "code",
   "execution_count": null,
   "metadata": {},
   "outputs": [],
   "source": [
    "result_t = t(result)\n",
    "distance = dist(result_t)\n",
    "scale = cmdscale(distance, eig = TRUE)\n",
    "points = scale$points\n",
    "klasses = kmeans(points, 3)\n",
    "clusters  = klasses$cluster"
   ]
  },
  {
   "cell_type": "code",
   "execution_count": null,
   "metadata": {},
   "outputs": [],
   "source": [
    "plot(points, xlim = c(-2000, 2000), t = \"n\")\n",
    "text(points, rownames(result_t), font = clusters)"
   ]
  },
  {
   "cell_type": "code",
   "execution_count": null,
   "metadata": {},
   "outputs": [],
   "source": [
    "distance"
   ]
  },
  {
   "cell_type": "code",
   "execution_count": null,
   "metadata": {},
   "outputs": [],
   "source": []
  }
 ],
 "metadata": {
  "kernelspec": {
   "display_name": "R",
   "language": "R",
   "name": "ir"
  },
  "language_info": {
   "codemirror_mode": "r",
   "file_extension": ".r",
   "mimetype": "text/x-r-source",
   "name": "R",
   "pygments_lexer": "r",
   "version": "3.6.1"
  }
 },
 "nbformat": 4,
 "nbformat_minor": 4
}
