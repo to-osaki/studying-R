{
 "cells": [
  {
   "cell_type": "code",
   "execution_count": 3,
   "metadata": {},
   "outputs": [],
   "source": [
    "doc = '  a  b  c  d  e\n",
    "1  -0.657  -1.429  0.244  -1.990  0.822\n",
    "2  0.105  0.152  1.223  1.298  1.140\n",
    "3  -0.657  0.152  -0.734  1.298  0.184\n",
    "4  -1.420  0.680  -0.244  -0.346  -0.453\n",
    "5  1.250  -0.374  0.734  1.298  1.459\n",
    "6  0.868  0.152  1.713  -0.346  0.822\n",
    "7  0.486  -0.374  0.244  1.298  1.459\n",
    "8  1.250  -0.374  -0.734  -1.990  -0.453\n",
    "9  0.105  0.680  0.734  0.749  0.822\n",
    "10  -0.657  -0.374  -1.223  0.201  -1.728\n",
    "11  -0.657  0.680  -0.734  -0.346  -0.453\n",
    "12  -0.657  -1.429  -1.713  -1.442  0.822\n",
    "13  0.105  -1.429  -0.244  -1.442  -0.134\n",
    "14  0.105  0.680  -0.734  0.201  -0.453\n",
    "15  -1.420  -1.956  -1.223  -0.894  -0.453\n",
    "16  1.250  0.680  1.223  0.201  -0.070\n",
    "17  0.868  -0.374  -1.713  -0.894  0.503\n",
    "18  -0.657  0.680  0.244  0.201  -0.070\n",
    "19  1.250  -0.374  2.202  0.201  1.459\n",
    "20  0.105  0.152  0.734  0.749  1.459\n",
    "21  -0.657  -0.902  -0.244  -0.894  0.822\n",
    "22  1.250  -0.902  1.223  -0.894  -0.453\n",
    "23  0.868  1.207  -1.223  0.201  0.503\n",
    "24  -2.946  0.680  -0.734  0.749  0.822\n",
    "25  1.250  0.680  1.223  1.298  2.097\n",
    "26  0.868  0.680  -0.244  0.749  0.057\n",
    "27  1.250  1.207  -0.734  0.201  0.184\n",
    "28  1.250  1.734  1.223  1.298  1.459\n",
    "29  0.105  0.152  -0.244  -0.346  -1.728\n",
    "30  1.250  1.207  0.734  -0.346  0.822\n",
    "31  -0.657  -0.374  -0.244  0.749  0.503\n",
    "32  0.105  0.152  0.244  0.201  -0.453\n",
    "33  0.868  -0.902  -0.244  -1.442  -0.453\n",
    "34  0.105  -0.902  0.244  -0.346  -1.728\n",
    "35  0.105  -0.902  -0.734  -0.894  -1.728\n",
    "36  0.868  0.680  -0.244  0.749  0.184\n",
    "37  0.105  0.152  -0.244  1.298  0.822\n",
    "38  -1.420  -0.374  -2.202  -1.990  -1.728\n",
    "39  0.105  0.152  0.244  0.201  0.503\n",
    "40  -2.183  -0.902  -1.713  -1.442  -1.090\n",
    "41  -1.420  1.207  -0.244  -0.346  -1.090\n",
    "42  0.868  1.734  0.244  0.749  2.097\n",
    "43  -1.420  1.734  1.223  0.749  -0.134\n",
    "44  0.105  -0.902  -0.734  0.749  -1.090\n",
    "45  -0.657  -0.902  -0.734  0.201  -1.409\n",
    "46  -0.657  -1.956  -0.734  -1.990  -0.134\n",
    "47  -0.657  -0.374  1.223  1.298  0.184\n",
    "48  0.868  -1.429  0.244  -1.990  -0.134\n",
    "49  0.868  -1.429  0.244  -1.442  1.140\n",
    "50  1.250  1.207  1.223  0.749  2.097\n",
    "51  1.250  1.207  1.713  0.749  1.140\n",
    "52  -2.183  0.680  -1.713  0.749  -0.771\n",
    "53  0.868  0.680  -0.244  1.298  0.822\n",
    "54  0.105  1.207  0.734  0.201  -0.134\n",
    "55  0.105  0.680  1.223  1.298  0.822\n",
    "56  0.105  0.680  1.223  0.201  -0.134\n",
    "57  0.868  -0.902  -0.244  -0.894  -1.728\n",
    "58  -0.657  0.152  -1.223  0.201  -1.728\n",
    "59  0.105  0.152  -1.223  0.201  -0.134\n",
    "60  -1.420  -1.956  0.244  0.749  -1.409\n",
    "61  0.105  0.152  -0.244  -1.442  -0.134\n",
    "62  0.105  -0.374  0.244  -1.442  0.184\n",
    "63  0.105  1.734  -0.244  0.749  0.184\n",
    "64  0.105  -0.374  -0.734  0.749  0.184\n",
    "65  -0.657  -0.374  -0.244  0.749  -1.728\n",
    "66  0.105  -0.374  -0.244  0.201  -0.453\n",
    "67  0.105  -1.429  -1.223  0.201  -0.771\n",
    "68  0.105  -1.429  2.202  -0.346  -1.409\n",
    "69  1.250  1.207  -1.223  1.298  0.503\n",
    "70  -0.657  -0.902  1.713  -1.442  -0.134\n",
    "71  -1.420  0.152  -0.734  1.298  -0.771\n",
    "72  0.868  0.152  1.223  -0.346  0.503\n",
    "73  -2.183  1.207  0.244  -0.346  -0.453\n",
    "74  0.868  1.734  1.223  0.749  0.822\n",
    "75  -1.420  -1.956  -0.734  -1.442  -0.771\n",
    "76  0.868  0.680  0.244  0.201  -0.134\n",
    "'"
   ]
  },
  {
   "cell_type": "code",
   "execution_count": 9,
   "metadata": {},
   "outputs": [],
   "source": [
    "# https://www1.doshisha.ac.jp/~mjin/R/Chap_25/25.html\n",
    "# 観測データにおける変数の間の関連成分をまとめたものを共通因子 (common factor) と呼び、\n",
    "# 他の変数と関係がなく、その変数のみ持っている成分を独自因子 (unique factor) と呼ぶ\n",
    "table = read.table(text = doc, header = T, row.names = 1)"
   ]
  },
  {
   "cell_type": "code",
   "execution_count": 10,
   "metadata": {},
   "outputs": [
    {
     "data": {
      "image/png": "[encoded data removed]",
      "text/plain": [
       "plot without title"
      ]
     },
     "metadata": {},
     "output_type": "display_data"
    }
   ],
   "source": [
    "cm = cor(table) # 相関行列\n",
    "plot(eigen(cm)$value) # スクリープロット\n",
    "abline(h = 1) # カイザーガットマン基準"
   ]
  },
  {
   "cell_type": "code",
   "execution_count": 20,
   "metadata": {},
   "outputs": [
    {
     "data": {
      "text/plain": [
       "\n",
       "Call:\n",
       "factanal(x = table, factors = 2, rotation = \"promax\")\n",
       "\n",
       "Uniquenesses:\n",
       "    a     b     c     d     e \n",
       "0.556 0.526 0.634 0.316 0.500 \n",
       "\n",
       "Loadings:\n",
       "  Factor1 Factor2\n",
       "a  0.728  -0.156 \n",
       "b          0.637 \n",
       "c  0.601         \n",
       "d          0.859 \n",
       "e  0.627   0.141 \n",
       "\n",
       "               Factor1 Factor2\n",
       "SS loadings      1.298   1.187\n",
       "Proportion Var   0.260   0.237\n",
       "Cumulative Var   0.260   0.497\n",
       "\n",
       "Factor Correlations:\n",
       "        Factor1 Factor2\n",
       "Factor1   1.000  -0.488\n",
       "Factor2  -0.488   1.000\n",
       "\n",
       "Test of the hypothesis that 2 factors are sufficient.\n",
       "The chi square statistic is 0.44 on 1 degree of freedom.\n",
       "The p-value is 0.506 "
      ]
     },
     "metadata": {},
     "output_type": "display_data"
    }
   ],
   "source": [
    "f = factanal(table, 2, rotation = 'promax')\n",
    "f"
   ]
  },
  {
   "cell_type": "code",
   "execution_count": 27,
   "metadata": {},
   "outputs": [
    {
     "data": {
      "image/png": "[encoded data removed]",
      "text/plain": [
       "plot without title"
      ]
     },
     "metadata": {},
     "output_type": "display_data"
    }
   ],
   "source": [
    "plot(f$loadings) # 因子負荷量\n",
    "text(f$loadings, rownames(f$loadings), pos = 1)"
   ]
  },
  {
   "cell_type": "code",
   "execution_count": 1,
   "metadata": {},
   "outputs": [],
   "source": [
    "# ある少数の軸に絞って集約化する＝共通項を見出す"
   ]
  },
  {
   "cell_type": "code",
   "execution_count": 8,
   "metadata": {},
   "outputs": [
    {
     "data": {
      "text/html": [
       "<table>\n",
       "<thead><tr><th scope=col>labels</th><th scope=col>level2</th><th scope=col>level1</th></tr></thead>\n",
       "<tbody>\n",
       "\t<tr><td>frankfurter      </td><td>sausage          </td><td>meat and sausage </td></tr>\n",
       "\t<tr><td>sausage          </td><td>sausage          </td><td>meat and sausage </td></tr>\n",
       "\t<tr><td>liver loaf       </td><td>sausage          </td><td>meat and sausage </td></tr>\n",
       "\t<tr><td>ham              </td><td>sausage          </td><td>meat and sausage </td></tr>\n",
       "\t<tr><td>meat             </td><td>sausage          </td><td>meat and sausage </td></tr>\n",
       "\t<tr><td>finished products</td><td>sausage          </td><td>meat and sausage </td></tr>\n",
       "</tbody>\n",
       "</table>\n"
      ],
      "text/latex": [
       "\\begin{tabular}{r|lll}\n",
       " labels & level2 & level1\\\\\n",
       "\\hline\n",
       "\t frankfurter       & sausage           & meat and sausage \\\\\n",
       "\t sausage           & sausage           & meat and sausage \\\\\n",
       "\t liver loaf        & sausage           & meat and sausage \\\\\n",
       "\t ham               & sausage           & meat and sausage \\\\\n",
       "\t meat              & sausage           & meat and sausage \\\\\n",
       "\t finished products & sausage           & meat and sausage \\\\\n",
       "\\end{tabular}\n"
      ],
      "text/markdown": [
       "\n",
       "| labels | level2 | level1 |\n",
       "|---|---|---|\n",
       "| frankfurter       | sausage           | meat and sausage  |\n",
       "| sausage           | sausage           | meat and sausage  |\n",
       "| liver loaf        | sausage           | meat and sausage  |\n",
       "| ham               | sausage           | meat and sausage  |\n",
       "| meat              | sausage           | meat and sausage  |\n",
       "| finished products | sausage           | meat and sausage  |\n",
       "\n"
      ],
      "text/plain": [
       "  labels            level2  level1          \n",
       "1 frankfurter       sausage meat and sausage\n",
       "2 sausage           sausage meat and sausage\n",
       "3 liver loaf        sausage meat and sausage\n",
       "4 ham               sausage meat and sausage\n",
       "5 meat              sausage meat and sausage\n",
       "6 finished products sausage meat and sausage"
      ]
     },
     "metadata": {},
     "output_type": "display_data"
    }
   ],
   "source": [
    "library(arules)\n",
    "data(Groceries)\n",
    "idxr = c(599, 1571, 2974, 4233, 4594, 4736, 5936, 6248, 7033, 9626)\n",
    "idxc = c(1, 23, 25, 65, 153, 157)\n",
    "head(Groceries@itemInfo)"
   ]
  },
  {
   "cell_type": "code",
   "execution_count": 5,
   "metadata": {},
   "outputs": [
    {
     "data": {
      "text/plain": [
       "X\n",
       "      0       1 \n",
       "1618748   43367 "
      ]
     },
     "metadata": {},
     "output_type": "display_data"
    }
   ],
   "source": [
    "X = as(Groceries, \"matrix\")\n",
    "X[which(X == FALSE)] = 0\n",
    "X[which(X == TRUE)] = 1\n",
    "table(X) # 行列全体の2.6%にしか値が入っていない"
   ]
  },
  {
   "cell_type": "code",
   "execution_count": 12,
   "metadata": {},
   "outputs": [],
   "source": [
    "# 特異値分解\n",
    "res.svd = svd(X)\n",
    "u = res.svd$u\n",
    "v = res.svd$v\n",
    "d = diag(res.svd$d)\n",
    "diag(d)[6:169] = 0 # ６次以上の次元を削除する"
   ]
  },
  {
   "cell_type": "code",
   "execution_count": 14,
   "metadata": {},
   "outputs": [],
   "source": [
    "d.inv = diag(1 / res.svd$d)\n",
    "X.svd = as.matrix(X) %*% v %*% d.inv %*% d %*% t(v)"
   ]
  },
  {
   "cell_type": "code",
   "execution_count": 15,
   "metadata": {},
   "outputs": [
    {
     "data": {
      "text/html": [
       "<table>\n",
       "<thead><tr><th scope=col>frankfurter</th><th scope=col>other vegetables</th><th scope=col>whole milk</th><th scope=col>salt</th><th scope=col>napkins</th><th scope=col>cling film/bags</th></tr></thead>\n",
       "<tbody>\n",
       "\t<tr><td>0</td><td>0</td><td>0</td><td>0</td><td>0</td><td>0</td></tr>\n",
       "\t<tr><td>0</td><td>0</td><td>0</td><td>0</td><td>1</td><td>0</td></tr>\n",
       "\t<tr><td>0</td><td>1</td><td>1</td><td>0</td><td>1</td><td>0</td></tr>\n",
       "\t<tr><td>0</td><td>1</td><td>0</td><td>0</td><td>0</td><td>0</td></tr>\n",
       "\t<tr><td>0</td><td>0</td><td>0</td><td>0</td><td>0</td><td>0</td></tr>\n",
       "\t<tr><td>0</td><td>0</td><td>0</td><td>0</td><td>0</td><td>0</td></tr>\n",
       "\t<tr><td>0</td><td>0</td><td>0</td><td>0</td><td>0</td><td>0</td></tr>\n",
       "\t<tr><td>0</td><td>0</td><td>0</td><td>0</td><td>0</td><td>0</td></tr>\n",
       "\t<tr><td>0</td><td>0</td><td>0</td><td>0</td><td>0</td><td>0</td></tr>\n",
       "\t<tr><td>0</td><td>0</td><td>0</td><td>0</td><td>0</td><td>0</td></tr>\n",
       "</tbody>\n",
       "</table>\n"
      ],
      "text/latex": [
       "\\begin{tabular}{llllll}\n",
       " frankfurter & other vegetables & whole milk & salt & napkins & cling film/bags\\\\\n",
       "\\hline\n",
       "\t 0 & 0 & 0 & 0 & 0 & 0\\\\\n",
       "\t 0 & 0 & 0 & 0 & 1 & 0\\\\\n",
       "\t 0 & 1 & 1 & 0 & 1 & 0\\\\\n",
       "\t 0 & 1 & 0 & 0 & 0 & 0\\\\\n",
       "\t 0 & 0 & 0 & 0 & 0 & 0\\\\\n",
       "\t 0 & 0 & 0 & 0 & 0 & 0\\\\\n",
       "\t 0 & 0 & 0 & 0 & 0 & 0\\\\\n",
       "\t 0 & 0 & 0 & 0 & 0 & 0\\\\\n",
       "\t 0 & 0 & 0 & 0 & 0 & 0\\\\\n",
       "\t 0 & 0 & 0 & 0 & 0 & 0\\\\\n",
       "\\end{tabular}\n"
      ],
      "text/markdown": [
       "\n",
       "| frankfurter | other vegetables | whole milk | salt | napkins | cling film/bags |\n",
       "|---|---|---|---|---|---|\n",
       "| 0 | 0 | 0 | 0 | 0 | 0 |\n",
       "| 0 | 0 | 0 | 0 | 1 | 0 |\n",
       "| 0 | 1 | 1 | 0 | 1 | 0 |\n",
       "| 0 | 1 | 0 | 0 | 0 | 0 |\n",
       "| 0 | 0 | 0 | 0 | 0 | 0 |\n",
       "| 0 | 0 | 0 | 0 | 0 | 0 |\n",
       "| 0 | 0 | 0 | 0 | 0 | 0 |\n",
       "| 0 | 0 | 0 | 0 | 0 | 0 |\n",
       "| 0 | 0 | 0 | 0 | 0 | 0 |\n",
       "| 0 | 0 | 0 | 0 | 0 | 0 |\n",
       "\n"
      ],
      "text/plain": [
       "      frankfurter other vegetables whole milk salt napkins cling film/bags\n",
       " [1,] 0           0                0          0    0       0              \n",
       " [2,] 0           0                0          0    1       0              \n",
       " [3,] 0           1                1          0    1       0              \n",
       " [4,] 0           1                0          0    0       0              \n",
       " [5,] 0           0                0          0    0       0              \n",
       " [6,] 0           0                0          0    0       0              \n",
       " [7,] 0           0                0          0    0       0              \n",
       " [8,] 0           0                0          0    0       0              \n",
       " [9,] 0           0                0          0    0       0              \n",
       "[10,] 0           0                0          0    0       0              "
      ]
     },
     "metadata": {},
     "output_type": "display_data"
    }
   ],
   "source": [
    "colnames(X.svd) = colnames(X)\n",
    "X[idxr, idxc]"
   ]
  },
  {
   "cell_type": "code",
   "execution_count": 16,
   "metadata": {},
   "outputs": [
    {
     "data": {
      "text/html": [
       "<table>\n",
       "<thead><tr><th scope=col>frankfurter</th><th scope=col>other vegetables</th><th scope=col>whole milk</th><th scope=col>salt</th><th scope=col>napkins</th><th scope=col>cling film/bags</th></tr></thead>\n",
       "<tbody>\n",
       "\t<tr><td>0.01 </td><td> 0.03</td><td> 0.04</td><td>0.00 </td><td>0.01 </td><td>0.00 </td></tr>\n",
       "\t<tr><td>0.01 </td><td> 0.01</td><td> 0.02</td><td>0.00 </td><td>0.01 </td><td>0.00 </td></tr>\n",
       "\t<tr><td>0.28 </td><td> 1.35</td><td> 1.18</td><td>0.05 </td><td>0.25 </td><td>0.05 </td></tr>\n",
       "\t<tr><td>0.07 </td><td> 1.02</td><td> 0.04</td><td>0.02 </td><td>0.06 </td><td>0.02 </td></tr>\n",
       "\t<tr><td>0.00 </td><td> 0.00</td><td> 0.00</td><td>0.00 </td><td>0.00 </td><td>0.00 </td></tr>\n",
       "\t<tr><td>0.04 </td><td> 0.01</td><td>-0.03</td><td>0.00 </td><td>0.05 </td><td>0.01 </td></tr>\n",
       "\t<tr><td>0.02 </td><td>-0.05</td><td>-0.02</td><td>0.00 </td><td>0.03 </td><td>0.01 </td></tr>\n",
       "\t<tr><td>0.08 </td><td>-0.02</td><td>-0.01</td><td>0.00 </td><td>0.00 </td><td>0.00 </td></tr>\n",
       "\t<tr><td>0.13 </td><td> 0.35</td><td> 0.11</td><td>0.01 </td><td>0.07 </td><td>0.01 </td></tr>\n",
       "\t<tr><td>0.02 </td><td>-0.05</td><td>-0.02</td><td>0.00 </td><td>0.03 </td><td>0.01 </td></tr>\n",
       "</tbody>\n",
       "</table>\n"
      ],
      "text/latex": [
       "\\begin{tabular}{llllll}\n",
       " frankfurter & other vegetables & whole milk & salt & napkins & cling film/bags\\\\\n",
       "\\hline\n",
       "\t 0.01  &  0.03 &  0.04 & 0.00  & 0.01  & 0.00 \\\\\n",
       "\t 0.01  &  0.01 &  0.02 & 0.00  & 0.01  & 0.00 \\\\\n",
       "\t 0.28  &  1.35 &  1.18 & 0.05  & 0.25  & 0.05 \\\\\n",
       "\t 0.07  &  1.02 &  0.04 & 0.02  & 0.06  & 0.02 \\\\\n",
       "\t 0.00  &  0.00 &  0.00 & 0.00  & 0.00  & 0.00 \\\\\n",
       "\t 0.04  &  0.01 & -0.03 & 0.00  & 0.05  & 0.01 \\\\\n",
       "\t 0.02  & -0.05 & -0.02 & 0.00  & 0.03  & 0.01 \\\\\n",
       "\t 0.08  & -0.02 & -0.01 & 0.00  & 0.00  & 0.00 \\\\\n",
       "\t 0.13  &  0.35 &  0.11 & 0.01  & 0.07  & 0.01 \\\\\n",
       "\t 0.02  & -0.05 & -0.02 & 0.00  & 0.03  & 0.01 \\\\\n",
       "\\end{tabular}\n"
      ],
      "text/markdown": [
       "\n",
       "| frankfurter | other vegetables | whole milk | salt | napkins | cling film/bags |\n",
       "|---|---|---|---|---|---|\n",
       "| 0.01  |  0.03 |  0.04 | 0.00  | 0.01  | 0.00  |\n",
       "| 0.01  |  0.01 |  0.02 | 0.00  | 0.01  | 0.00  |\n",
       "| 0.28  |  1.35 |  1.18 | 0.05  | 0.25  | 0.05  |\n",
       "| 0.07  |  1.02 |  0.04 | 0.02  | 0.06  | 0.02  |\n",
       "| 0.00  |  0.00 |  0.00 | 0.00  | 0.00  | 0.00  |\n",
       "| 0.04  |  0.01 | -0.03 | 0.00  | 0.05  | 0.01  |\n",
       "| 0.02  | -0.05 | -0.02 | 0.00  | 0.03  | 0.01  |\n",
       "| 0.08  | -0.02 | -0.01 | 0.00  | 0.00  | 0.00  |\n",
       "| 0.13  |  0.35 |  0.11 | 0.01  | 0.07  | 0.01  |\n",
       "| 0.02  | -0.05 | -0.02 | 0.00  | 0.03  | 0.01  |\n",
       "\n"
      ],
      "text/plain": [
       "      frankfurter other vegetables whole milk salt napkins cling film/bags\n",
       " [1,] 0.01         0.03             0.04      0.00 0.01    0.00           \n",
       " [2,] 0.01         0.01             0.02      0.00 0.01    0.00           \n",
       " [3,] 0.28         1.35             1.18      0.05 0.25    0.05           \n",
       " [4,] 0.07         1.02             0.04      0.02 0.06    0.02           \n",
       " [5,] 0.00         0.00             0.00      0.00 0.00    0.00           \n",
       " [6,] 0.04         0.01            -0.03      0.00 0.05    0.01           \n",
       " [7,] 0.02        -0.05            -0.02      0.00 0.03    0.01           \n",
       " [8,] 0.08        -0.02            -0.01      0.00 0.00    0.00           \n",
       " [9,] 0.13         0.35             0.11      0.01 0.07    0.01           \n",
       "[10,] 0.02        -0.05            -0.02      0.00 0.03    0.01           "
      ]
     },
     "metadata": {},
     "output_type": "display_data"
    }
   ],
   "source": [
    "round(X.svd[idxr, idxc], 2) # リコメンデーション評価値\n",
    "# saltは誰も買っていないが値が入っている\n",
    "# 負の値が入っておりこれはリコメンデーションでは扱いづらい"
   ]
  },
  {
   "cell_type": "code",
   "execution_count": 1,
   "metadata": {},
   "outputs": [
    {
     "name": "stderr",
     "output_type": "stream",
     "text": [
      "Loading required package: pkgmaker\n",
      "Loading required package: registry\n",
      "\n",
      "Attaching package: 'pkgmaker'\n",
      "\n",
      "The following object is masked from 'package:base':\n",
      "\n",
      "    isFALSE\n",
      "\n",
      "Loading required package: rngtools\n",
      "Loading required package: cluster\n",
      "Registered S3 methods overwritten by 'ggplot2':\n",
      "  method         from \n",
      "  [.quosures     rlang\n",
      "  c.quosures     rlang\n",
      "  print.quosures rlang\n",
      "NMF - BioConductor layer [NO: missing Biobase] | Shared memory capabilities [NO: windows] | Cores 7/8\n",
      "  To enable the Bioconductor layer, try: install.extras('\n",
      "NMF\n",
      "') [with Bioconductor repository enabled]\n"
     ]
    }
   ],
   "source": [
    "# 非負値行列因子分解\n",
    "library(NMF)"
   ]
  },
  {
   "cell_type": "code",
   "execution_count": 6,
   "metadata": {},
   "outputs": [],
   "source": [
    "res.nmf = nmf(X, 5, seed = 71) # ６次以上の次元を削除する\n",
    "w = basis(res.nmf)\n",
    "h = coef(res.nmf)"
   ]
  },
  {
   "cell_type": "code",
   "execution_count": 9,
   "metadata": {},
   "outputs": [
    {
     "data": {
      "text/html": [
       "<table>\n",
       "<thead><tr><th scope=col>frankfurter</th><th scope=col>other vegetables</th><th scope=col>whole milk</th><th scope=col>salt</th><th scope=col>napkins</th><th scope=col>cling film/bags</th></tr></thead>\n",
       "<tbody>\n",
       "\t<tr><td>0.00</td><td>0.00</td><td>0.00</td><td>0.00</td><td>0.08</td><td>0.02</td></tr>\n",
       "\t<tr><td>0.00</td><td>0.00</td><td>0.00</td><td>0.00</td><td>0.08</td><td>0.02</td></tr>\n",
       "\t<tr><td>0.29</td><td>1.10</td><td>1.45</td><td>0.06</td><td>0.55</td><td>0.12</td></tr>\n",
       "\t<tr><td>0.06</td><td>0.23</td><td>0.32</td><td>0.02</td><td>0.16</td><td>0.03</td></tr>\n",
       "\t<tr><td>0.06</td><td>0.00</td><td>0.00</td><td>0.00</td><td>0.00</td><td>0.00</td></tr>\n",
       "\t<tr><td>0.13</td><td>0.12</td><td>0.16</td><td>0.01</td><td>0.00</td><td>0.00</td></tr>\n",
       "\t<tr><td>0.13</td><td>0.00</td><td>0.00</td><td>0.00</td><td>0.00</td><td>0.00</td></tr>\n",
       "\t<tr><td>0.06</td><td>0.00</td><td>0.00</td><td>0.00</td><td>0.00</td><td>0.00</td></tr>\n",
       "\t<tr><td>0.22</td><td>0.29</td><td>0.38</td><td>0.01</td><td>0.16</td><td>0.03</td></tr>\n",
       "\t<tr><td>0.06</td><td>0.00</td><td>0.00</td><td>0.00</td><td>0.00</td><td>0.00</td></tr>\n",
       "</tbody>\n",
       "</table>\n"
      ],
      "text/latex": [
       "\\begin{tabular}{llllll}\n",
       " frankfurter & other vegetables & whole milk & salt & napkins & cling film/bags\\\\\n",
       "\\hline\n",
       "\t 0.00 & 0.00 & 0.00 & 0.00 & 0.08 & 0.02\\\\\n",
       "\t 0.00 & 0.00 & 0.00 & 0.00 & 0.08 & 0.02\\\\\n",
       "\t 0.29 & 1.10 & 1.45 & 0.06 & 0.55 & 0.12\\\\\n",
       "\t 0.06 & 0.23 & 0.32 & 0.02 & 0.16 & 0.03\\\\\n",
       "\t 0.06 & 0.00 & 0.00 & 0.00 & 0.00 & 0.00\\\\\n",
       "\t 0.13 & 0.12 & 0.16 & 0.01 & 0.00 & 0.00\\\\\n",
       "\t 0.13 & 0.00 & 0.00 & 0.00 & 0.00 & 0.00\\\\\n",
       "\t 0.06 & 0.00 & 0.00 & 0.00 & 0.00 & 0.00\\\\\n",
       "\t 0.22 & 0.29 & 0.38 & 0.01 & 0.16 & 0.03\\\\\n",
       "\t 0.06 & 0.00 & 0.00 & 0.00 & 0.00 & 0.00\\\\\n",
       "\\end{tabular}\n"
      ],
      "text/markdown": [
       "\n",
       "| frankfurter | other vegetables | whole milk | salt | napkins | cling film/bags |\n",
       "|---|---|---|---|---|---|\n",
       "| 0.00 | 0.00 | 0.00 | 0.00 | 0.08 | 0.02 |\n",
       "| 0.00 | 0.00 | 0.00 | 0.00 | 0.08 | 0.02 |\n",
       "| 0.29 | 1.10 | 1.45 | 0.06 | 0.55 | 0.12 |\n",
       "| 0.06 | 0.23 | 0.32 | 0.02 | 0.16 | 0.03 |\n",
       "| 0.06 | 0.00 | 0.00 | 0.00 | 0.00 | 0.00 |\n",
       "| 0.13 | 0.12 | 0.16 | 0.01 | 0.00 | 0.00 |\n",
       "| 0.13 | 0.00 | 0.00 | 0.00 | 0.00 | 0.00 |\n",
       "| 0.06 | 0.00 | 0.00 | 0.00 | 0.00 | 0.00 |\n",
       "| 0.22 | 0.29 | 0.38 | 0.01 | 0.16 | 0.03 |\n",
       "| 0.06 | 0.00 | 0.00 | 0.00 | 0.00 | 0.00 |\n",
       "\n"
      ],
      "text/plain": [
       "      frankfurter other vegetables whole milk salt napkins cling film/bags\n",
       " [1,] 0.00        0.00             0.00       0.00 0.08    0.02           \n",
       " [2,] 0.00        0.00             0.00       0.00 0.08    0.02           \n",
       " [3,] 0.29        1.10             1.45       0.06 0.55    0.12           \n",
       " [4,] 0.06        0.23             0.32       0.02 0.16    0.03           \n",
       " [5,] 0.06        0.00             0.00       0.00 0.00    0.00           \n",
       " [6,] 0.13        0.12             0.16       0.01 0.00    0.00           \n",
       " [7,] 0.13        0.00             0.00       0.00 0.00    0.00           \n",
       " [8,] 0.06        0.00             0.00       0.00 0.00    0.00           \n",
       " [9,] 0.22        0.29             0.38       0.01 0.16    0.03           \n",
       "[10,] 0.06        0.00             0.00       0.00 0.00    0.00           "
      ]
     },
     "metadata": {},
     "output_type": "display_data"
    }
   ],
   "source": [
    "# whole milk, furankfurter, other vegetables の３列に見られるように、\n",
    "# 食料品は同時に買われやすいという直感が反映された結果にもなっている\n",
    "X.nmf = w %*% h\n",
    "round(X.nmf[idxr, idxc], 2)"
   ]
  },
  {
   "cell_type": "code",
   "execution_count": null,
   "metadata": {},
   "outputs": [],
   "source": []
  }
 ],
 "metadata": {
  "kernelspec": {
   "display_name": "R",
   "language": "R",
   "name": "ir"
  },
  "language_info": {
   "codemirror_mode": "r",
   "file_extension": ".r",
   "mimetype": "text/x-r-source",
   "name": "R",
   "pygments_lexer": "r",
   "version": "3.6.1"
  }
 },
 "nbformat": 4,
 "nbformat_minor": 4
}
