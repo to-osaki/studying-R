{
 "cells": [
  {
   "cell_type": "code",
   "execution_count": 1,
   "metadata": {},
   "outputs": [],
   "source": [
    "# 回帰分析"
   ]
  },
  {
   "cell_type": "code",
   "execution_count": 2,
   "metadata": {},
   "outputs": [],
   "source": [
    "height = c(158,162,177,173,166)\n",
    "weight = c(51,55,72,57,64)\n",
    "h1 = data.frame(HEIGHT=height, WEIGHT=weight)"
   ]
  },
  {
   "cell_type": "code",
   "execution_count": 3,
   "metadata": {},
   "outputs": [
    {
     "data": {
      "text/plain": [
       "\n",
       "Call:\n",
       "lm(formula = WEIGHT ~ HEIGHT, data = h1)\n",
       "\n",
       "Coefficients:\n",
       "(Intercept)       HEIGHT  \n",
       "    -80.819        0.841  \n"
      ]
     },
     "metadata": {},
     "output_type": "display_data"
    }
   ],
   "source": [
    "r = lm(WEIGHT~HEIGHT, data = h1) # 線形モデル\n",
    "# lsfit 最小二乗法\n",
    "# glm 一般線型モデル\n",
    "r"
   ]
  },
  {
   "cell_type": "code",
   "execution_count": 4,
   "metadata": {},
   "outputs": [
    {
     "data": {
      "text/plain": [
       "\n",
       "Call:\n",
       "lm(formula = WEIGHT ~ HEIGHT, data = h1)\n",
       "\n",
       "Residuals:\n",
       "      1       2       3       4       5 \n",
       "-1.0626 -0.4267  3.9580 -7.6779  5.2092 \n",
       "\n",
       "Coefficients:\n",
       "            Estimate Std. Error t value Pr(>|t|)\n",
       "(Intercept) -80.8188    62.9478  -1.284    0.289\n",
       "HEIGHT        0.8410     0.3762   2.236    0.111\n",
       "\n",
       "Residual standard error: 5.861 on 3 degrees of freedom\n",
       "Multiple R-squared:  0.625,\tAdjusted R-squared:  0.4999 \n",
       "F-statistic: 4.999 on 1 and 3 DF,  p-value: 0.1114\n"
      ]
     },
     "metadata": {},
     "output_type": "display_data"
    }
   ],
   "source": [
    "# データの分散 = 残渣の分散 + 予測（回帰）の分散\n",
    "# 決定係数 = (予測（回帰）の分散 / データの分散) = 1 - (誤差の分散 / データの分散)\n",
    "summary(r)"
   ]
  },
  {
   "cell_type": "code",
   "execution_count": 5,
   "metadata": {},
   "outputs": [
    {
     "data": {
      "image/png": "[encoded data removed]",
      "text/plain": [
       "plot without title"
      ]
     },
     "metadata": {},
     "output_type": "display_data"
    }
   ],
   "source": [
    "plot(h1)\n",
    "abline(r)"
   ]
  },
  {
   "cell_type": "code",
   "execution_count": null,
   "metadata": {},
   "outputs": [],
   "source": []
  }
 ],
 "metadata": {
  "kernelspec": {
   "display_name": "R",
   "language": "R",
   "name": "ir"
  },
  "language_info": {
   "codemirror_mode": "r",
   "file_extension": ".r",
   "mimetype": "text/x-r-source",
   "name": "R",
   "pygments_lexer": "r",
   "version": "3.6.1"
  }
 },
 "nbformat": 4,
 "nbformat_minor": 4
}
