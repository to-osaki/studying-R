{
 "cells": [
  {
   "cell_type": "code",
   "execution_count": null,
   "metadata": {},
   "outputs": [],
   "source": [
    "# 相関行列の固有値分解　＝＝＞　主成分分析（因子分析）　結果を良く説明する新たな変数を作る\n",
    "# 頻度行列の特異値分解　＝＝＞　コレスポンデンス分析(数量化３類）\n",
    "# 分散比行列の固有値分解　＝＝＞　判別分析　分類された結果をもとに、分類の要因を探る\n",
    "# 距離行列の固有値分解　＝＝＞　MDS　定義された距離から低次元での相互の位置関係を求める"
   ]
  },
  {
   "cell_type": "code",
   "execution_count": null,
   "metadata": {},
   "outputs": [],
   "source": [
    "# https://www1.doshisha.ac.jp/~mjin/R/Chap_27/27.html\n",
    "data(eurodist)\n",
    "d = cmdscale(eurodist, k = 2, eig = T) # 古典的多次元尺度法\n",
    "d$GOF # 固有値全体の総和に対して占める割合"
   ]
  },
  {
   "cell_type": "code",
   "execution_count": null,
   "metadata": {},
   "outputs": [],
   "source": [
    "plot(ylim = c(2000, -2000), d$points, type='n')\n",
    "text(d$points, rownames(d$points))"
   ]
  },
  {
   "cell_type": "code",
   "execution_count": null,
   "metadata": {},
   "outputs": [],
   "source": [
    "csv = '\n",
    ",品川 ,目黒 ,渋谷 ,原宿 ,新宿 ,高田馬場 ,池袋 ,巣鴨 ,田端 ,日暮里 ,上野 ,秋葉原 ,東京 ,新橋 \n",
    "品川 ,0,7,12,14,18,22,25,28,24,21,17,14,10,7\n",
    "目黒 ,7,0,5,7,11,15,18,23,31,28,24,21,17,14\n",
    "渋谷 ,12,5,0,2,6,10,13,18,22,25,29,26,22,19\n",
    "原宿 ,14,7,2,0,4,8,11,16,20,23,27,28,24,21\n",
    "新宿 ,18,11,6,4,0,4,7,12,16,19,23,26,28,25\n",
    "高田馬場 ,22,15,10,8,4,0,3,8,12,15,19,22,26,29\n",
    "池袋 ,25,18,13,11,7,3,0,5,9,12,16,19,23,26\n",
    "巣鴨 ,28,23,18,16,12,8,5,0,4,7,11,14,18,21\n",
    "田端 ,24,31,22,20,16,12,9,4,0,3,7,10,14,17\n",
    "日暮里 ,21,28,25,23,19,15,12,7,3,0,4,7,11,14\n",
    "上野 ,17,24,29,27,23,19,16,11,7,4,0,3,7,10\n",
    "秋葉原 ,14,21,26,28,26,22,19,14,10,7,3,0,4,7\n",
    "東京 ,10,17,22,24,28,26,23,18,14,11,7,4,0,3\n",
    "新橋 ,7,14,19,21,25,29,26,21,17,14,10,7,3,0\n",
    "'\n",
    "table = read.csv(text = csv, header = T, row.names = 1)\n",
    "dist = as.dist(table) # cmdscaleで扱える左下成分のみの形式\n",
    "dist"
   ]
  },
  {
   "cell_type": "code",
   "execution_count": null,
   "metadata": {},
   "outputs": [],
   "source": [
    "d = cmdscale(dist, k = 3, eig = T)\n",
    "d$eig # 固有値"
   ]
  },
  {
   "cell_type": "code",
   "execution_count": null,
   "metadata": {},
   "outputs": [],
   "source": [
    "plot(d$points, type='n')\n",
    "text(d$points, rownames(d$points))"
   ]
  },
  {
   "cell_type": "code",
   "execution_count": null,
   "metadata": {},
   "outputs": [],
   "source": [
    "csv = ' ,新緑,綾鷹,伊右衛門,生茶,おーいお茶\n",
    "新緑, 0,1,3,6,8\n",
    "綾鷹, 1,0,2,3,6\n",
    "伊右衛門, 3,2,0,3,3\n",
    "生茶, 6,3,3,0,5\n",
    "おーいお茶, 8,6,3,5,0\n",
    "'\n",
    "table = read.csv(text = csv, header = T, row.names = 1)\n",
    "dist = as.dist(table) # cmdscaleで扱える左下成分のみの形式\n",
    "dist"
   ]
  },
  {
   "cell_type": "code",
   "execution_count": null,
   "metadata": {},
   "outputs": [],
   "source": [
    "d = cmdscale(dist, k = 2, eig = T)\n",
    "d$eig # 固有値"
   ]
  },
  {
   "cell_type": "code",
   "execution_count": null,
   "metadata": {},
   "outputs": [],
   "source": [
    "plot(d$points, type='n')\n",
    "text(d$points, rownames(d$points))"
   ]
  },
  {
   "cell_type": "code",
   "execution_count": null,
   "metadata": {},
   "outputs": [],
   "source": []
  }
 ],
 "metadata": {
  "kernelspec": {
   "display_name": "R",
   "language": "R",
   "name": "ir"
  },
  "language_info": {
   "codemirror_mode": "r",
   "file_extension": ".r",
   "mimetype": "text/x-r-source",
   "name": "R",
   "pygments_lexer": "r",
   "version": "3.6.1"
  }
 },
 "nbformat": 4,
 "nbformat_minor": 4
}
