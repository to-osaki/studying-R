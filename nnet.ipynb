{
 "cells": [
  {
   "cell_type": "code",
   "execution_count": 2,
   "metadata": {},
   "outputs": [
    {
     "name": "stderr",
     "output_type": "stream",
     "text": [
      "\n",
      "Attaching package: 'dplyr'\n",
      "\n",
      "The following objects are masked from 'package:stats':\n",
      "\n",
      "    filter, lag\n",
      "\n",
      "The following objects are masked from 'package:base':\n",
      "\n",
      "    intersect, setdiff, setequal, union\n",
      "\n"
     ]
    }
   ],
   "source": [
    "library(nnet)\n",
    "library(\"dplyr\")"
   ]
  },
  {
   "cell_type": "code",
   "execution_count": 3,
   "metadata": {},
   "outputs": [
    {
     "data": {
      "text/html": [
       "<table>\n",
       "<thead><tr><th scope=col>input</th><th scope=col>output</th></tr></thead>\n",
       "<tbody>\n",
       "\t<tr><td>0.015    </td><td>0.5009127</td></tr>\n",
       "\t<tr><td>0.110    </td><td>0.2975720</td></tr>\n",
       "\t<tr><td>0.205    </td><td>0.2181760</td></tr>\n",
       "\t<tr><td>0.300    </td><td>0.1929140</td></tr>\n",
       "\t<tr><td>0.395    </td><td>0.3295068</td></tr>\n",
       "\t<tr><td>0.490    </td><td>0.4565210</td></tr>\n",
       "</tbody>\n",
       "</table>\n"
      ],
      "text/latex": [
       "\\begin{tabular}{r|ll}\n",
       " input & output\\\\\n",
       "\\hline\n",
       "\t 0.015     & 0.5009127\\\\\n",
       "\t 0.110     & 0.2975720\\\\\n",
       "\t 0.205     & 0.2181760\\\\\n",
       "\t 0.300     & 0.1929140\\\\\n",
       "\t 0.395     & 0.3295068\\\\\n",
       "\t 0.490     & 0.4565210\\\\\n",
       "\\end{tabular}\n"
      ],
      "text/markdown": [
       "\n",
       "| input | output |\n",
       "|---|---|\n",
       "| 0.015     | 0.5009127 |\n",
       "| 0.110     | 0.2975720 |\n",
       "| 0.205     | 0.2181760 |\n",
       "| 0.300     | 0.1929140 |\n",
       "| 0.395     | 0.3295068 |\n",
       "| 0.490     | 0.4565210 |\n",
       "\n"
      ],
      "text/plain": [
       "  input output   \n",
       "1 0.015 0.5009127\n",
       "2 0.110 0.2975720\n",
       "3 0.205 0.2181760\n",
       "4 0.300 0.1929140\n",
       "5 0.395 0.3295068\n",
       "6 0.490 0.4565210"
      ]
     },
     "metadata": {},
     "output_type": "display_data"
    }
   ],
   "source": [
    "doc = '\n",
    "input,output\n",
    "0.015,0.500912724\n",
    "0.11,0.297571962\n",
    "0.205,0.218176008\n",
    "0.3,0.19291396\n",
    "0.395,0.329506764\n",
    "0.49,0.456520966\n",
    "0.585,0.672476834\n",
    "0.68,0.766769393\n",
    "0.775,0.852478107\n",
    "0.87,0.704861326\n",
    "0.965,0.570437662\n",
    "0.025,0.45306966\n",
    "0.05,0.407294902\n",
    "0.075,0.36380285\n",
    "0.1,0.323664424\n",
    "0.125,0.287867966\n",
    "0.15,0.257294902\n",
    "0.175,0.232698043\n",
    "0.2,0.214683045\n",
    "0.225,0.203693498\n",
    "0.25,0.2\n",
    "0.275,0.203693498\n",
    "0.3,0.214683045\n",
    "0.325,0.232698043\n",
    "0.35,0.257294902\n",
    "0.375,0.287867966\n",
    "0.4,0.323664424\n",
    "0.425,0.36380285\n",
    "0.45,0.407294902\n",
    "0.475,0.45306966\n",
    "0.5,0.5\n",
    "0.525,0.54693034\n",
    "0.55,0.592705098\n",
    "0.575,0.63619715\n",
    "0.6,0.676335576\n",
    "0.625,0.712132034\n",
    "0.65,0.742705098\n",
    "0.675,0.767301957\n",
    "0.7,0.785316955\n",
    "0.725,0.796306502\n",
    "0.75,0.8\n",
    "0.775,0.796306502\n",
    "0.8,0.785316955\n",
    "0.825,0.767301957\n",
    "0.85,0.742705098\n",
    "0.875,0.712132034\n",
    "0.9,0.676335576\n",
    "0.925,0.63619715\n",
    "0.95,0.592705098\n",
    "0.975,0.54693034\n",
    "'\n",
    "table = read.csv(text = doc, header = T)\n",
    "head(table)"
   ]
  },
  {
   "cell_type": "code",
   "execution_count": 4,
   "metadata": {},
   "outputs": [],
   "source": [
    "train = slice(table, 1:11)\n",
    "valid = slice(table, 12:nrow(table))"
   ]
  },
  {
   "cell_type": "code",
   "execution_count": 10,
   "metadata": {},
   "outputs": [
    {
     "name": "stdout",
     "output_type": "stream",
     "text": [
      "# weights:  13\n",
      "initial  value 0.604709 \n",
      "iter  10 value 0.215698\n",
      "iter  20 value 0.058748\n",
      "iter  30 value 0.039696\n",
      "iter  40 value 0.028535\n",
      "iter  50 value 0.014460\n",
      "iter  60 value 0.007038\n",
      "iter  70 value 0.005590\n",
      "iter  80 value 0.005459\n",
      "iter  90 value 0.005430\n",
      "iter 100 value 0.005332\n",
      "final  value 0.005332 \n",
      "stopped after 100 iterations\n"
     ]
    },
    {
     "data": {
      "image/png": "[encoded data removed]",
      "text/plain": [
       "plot without title"
      ]
     },
     "metadata": {},
     "output_type": "display_data"
    }
   ],
   "source": [
    "result = nnet(output~input, data = train, size = 4, maxit = 100) # 中間層の大きさ４、イテレーション100回\n",
    "pred = predict(result, valid, type = \"raw\") # row = 回帰 class = 分類\n",
    "plot(valid, type = \"b\", ylim = c(0,1))\n",
    "points(valid$input, pred, pch = 16)\n",
    "lines(valid$input, pred)"
   ]
  },
  {
   "cell_type": "code",
   "execution_count": 21,
   "metadata": {},
   "outputs": [
    {
     "name": "stdout",
     "output_type": "stream",
     "text": [
      "# weights:  4\n",
      "initial  value 0.737259 \n",
      "iter  10 value 0.503467\n",
      "iter  20 value 0.185624\n",
      "iter  30 value 0.168701\n",
      "iter  40 value 0.146313\n",
      "iter  50 value 0.129268\n",
      "iter  60 value 0.127349\n",
      "iter  70 value 0.122644\n",
      "iter  80 value 0.120034\n",
      "iter  90 value 0.111641\n",
      "iter 100 value 0.110746\n",
      "final  value 0.110746 \n",
      "stopped after 100 iterations\n"
     ]
    },
    {
     "data": {
      "image/png": "[encoded data removed]",
      "text/plain": [
       "plot without title"
      ]
     },
     "metadata": {},
     "output_type": "display_data"
    }
   ],
   "source": [
    "result = nnet(output~input, data = train, size = 1, maxit = 100) # 中間層の大きさ1、イテレーション100回\n",
    "pred = predict(result, valid, type = \"raw\") # row = 回帰 class = 分類\n",
    "plot(valid, type = \"b\", ylim = c(0,1))\n",
    "points(valid$input, pred, pch = 16)\n",
    "lines(valid$input, pred)"
   ]
  },
  {
   "cell_type": "code",
   "execution_count": null,
   "metadata": {},
   "outputs": [],
   "source": []
  }
 ],
 "metadata": {
  "kernelspec": {
   "display_name": "R",
   "language": "R",
   "name": "ir"
  },
  "language_info": {
   "codemirror_mode": "r",
   "file_extension": ".r",
   "mimetype": "text/x-r-source",
   "name": "R",
   "pygments_lexer": "r",
   "version": "3.6.1"
  }
 },
 "nbformat": 4,
 "nbformat_minor": 4
}
