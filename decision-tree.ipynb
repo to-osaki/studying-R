{
 "cells": [
  {
   "cell_type": "code",
   "execution_count": 3,
   "metadata": {},
   "outputs": [],
   "source": [
    "doc = '\n",
    "number,age,gender,trial,score\n",
    "1,Under40,Man,New,Under70\n",
    "2,Under40,Woman,New,Under70\n",
    "3,Over40,Woman,Retry,Under70\n",
    "4,Over40,Man,New,Over70\n",
    "5,Over40,Woman,New,Over70\n",
    "6,Under40,Man,New,Over70\n",
    "7,Under40,Woman,New,Under70\n",
    "8,Under40,Man,New,Over70\n",
    "9,Under40,Woman,Retry,Under70\n",
    "10,Under40,Man,New,Over70\n",
    "11,Over40,Man,Retry,Under70\n",
    "12,Over40,Woman,New,Under70\n",
    "13,Over40,Woman,New,Over70\n",
    "14,Over40,Man,New,Under70\n",
    "15,Over40,Woman,New,Over70\n",
    "16,Over40,Woman,New,Over70\n",
    "17,Over40,Woman,Retry,Over70\n",
    "18,Under40,Man,New,Over70\n",
    "19,Under40,Man,New,Over70\n",
    "20,Over40,Woman,New,Under70\n",
    "21,Under40,Woman,Retry,Under70\n",
    "22,Over40,Man,New,Over70\n",
    "23,Under40,Man,New,Over70\n",
    "24,Under40,Man,Retry,Over70\n",
    "25,Over40,Woman,New,Over70\n",
    "26,Over40,Man,New,Over70\n",
    "27,Over40,Man,New,Under70\n",
    "28,Over40,Woman,New,Under70\n",
    "29,Over40,Woman,New,Under70\n",
    "30,Under40,Man,New,Over70\n",
    "31,Over40,Man,New,Over70\n",
    "32,Under40,Man,Retry,Over70\n",
    "33,Under40,Woman,New,Over70\n",
    "34,Under40,Woman,New,Under70\n",
    "35,Under40,Woman,New,Under70\n",
    "36,Over40,Woman,New,Under70\n",
    "37,Over40,Man,Retry,Under70\n",
    "38,Under40,Man,New,Over70\n",
    "39,Under40,Woman,Retry,Over70\n",
    "40,Under40,Man,Retry,Over70\n",
    "41,Over40,Woman,New,Under70\n",
    "42,Under40,Man,Retry,Under70\n",
    "43,Under40,Woman,New,Over70\n",
    "44,Over40,Man,New,Over70\n",
    "45,Under40,Woman,New,Over70\n",
    "46,Over40,Woman,New,Under70\n",
    "47,Over40,Woman,New,Under70\n",
    "48,Over40,Woman,New,Under70\n",
    "49,Over40,Woman,Retry,Under70\n",
    "50,Under40,Man,New,Over70\n",
    "51,Under40,Man,Retry,Under70\n",
    "52,Over40,Man,New,Over70\n",
    "53,Under40,Woman,New,Over70\n",
    "54,Under40,Woman,New,Over70\n",
    "55,Under40,Man,New,Over70\n",
    "56,Under40,Woman,Retry,Under70\n",
    "57,Under40,Woman,Retry,Under70\n",
    "58,Under40,Woman,Retry,Under70\n",
    "59,Under40,Woman,New,Over70\n",
    "60,Under40,Woman,Retry,Under70\n",
    "61,Under40,Man,New,Over70\n",
    "62,Over40,Woman,Retry,Under70\n",
    "63,Over40,Woman,New,Under70\n",
    "64,Under40,Woman,New,Over70\n",
    "65,Over40,Woman,New,Under70\n",
    "66,Under40,Woman,Retry,Under70\n",
    "67,Under40,Woman,New,Over70\n",
    "68,Over40,Woman,New,Under70\n",
    "69,Under40,Man,Retry,Under70\n",
    "70,Over40,Man,New,Over70\n",
    "71,Under40,Woman,New,Over70\n",
    "72,Under40,Woman,Retry,Under70\n",
    "73,Over40,Woman,New,Under70\n",
    "74,Under40,Woman,New,Over70\n",
    "75,Over40,Man,Retry,Under70\n",
    "76,Under40,Man,New,Over70\n",
    "77,Over40,Woman,New,Under70\n",
    "78,Over40,Woman,Retry,Over70\n",
    "79,Over40,Woman,New,Under70\n",
    "80,Over40,Woman,Retry,Under70\n",
    "81,Over40,Man,New,Under70\n",
    "82,Over40,Woman,Retry,Under70\n",
    "83,Under40,Man,New,Over70\n",
    "84,Under40,Woman,New,Over70\n",
    "85,Over40,Woman,Retry,Under70\n",
    "86,Under40,Man,New,Over70\n",
    "87,Over40,Man,New,Under70\n",
    "88,Over40,Woman,Retry,Under70\n",
    "89,Under40,Woman,New,Over70\n",
    "90,Under40,Man,New,Over70\n",
    "91,Over40,Woman,New,Under70\n",
    "92,Over40,Woman,Retry,Over70\n",
    "93,Over40,Man,New,Under70\n",
    "94,Under40,Woman,New,Under70\n",
    "95,Over40,Man,New,Under70\n",
    "96,Over40,Woman,Retry,Under70\n",
    "97,Under40,Woman,New,Over70\n",
    "98,Under40,Woman,Retry,Under70\n",
    "99,Over40,Man,New,Under70\n",
    "100,Over40,Man,New,Over70\n",
    "'\n",
    "table = read.csv(text = doc, header = T, row.names = 1)"
   ]
  },
  {
   "cell_type": "code",
   "execution_count": 5,
   "metadata": {},
   "outputs": [
    {
     "data": {
      "text/plain": [
       "n= 100 \n",
       "\n",
       "node), split, n, loss, yval, (yprob)\n",
       "      * denotes terminal node\n",
       "\n",
       " 1) root 100 48 Under70 (0.4800000 0.5200000)  \n",
       "   2) trial=New 70 29 Over70 (0.5857143 0.4142857)  \n",
       "     4) age=Under40 34  6 Over70 (0.8235294 0.1764706) *\n",
       "     5) age=Over40 36 13 Under70 (0.3611111 0.6388889)  \n",
       "      10) gender=Man 15  7 Over70 (0.5333333 0.4666667) *\n",
       "      11) gender=Woman 21  5 Under70 (0.2380952 0.7619048) *\n",
       "   3) trial=Retry 30  7 Under70 (0.2333333 0.7666667) *"
      ]
     },
     "metadata": {},
     "output_type": "display_data"
    }
   ],
   "source": [
    "library(rpart)\n",
    "result = rpart(score~., data = table, method = \"class\") # 目的変数~説明変数\n",
    "result"
   ]
  },
  {
   "cell_type": "code",
   "execution_count": 8,
   "metadata": {},
   "outputs": [
    {
     "data": {
      "image/png": "[encoded data removed]",
      "text/plain": [
       "plot without title"
      ]
     },
     "metadata": {},
     "output_type": "display_data"
    }
   ],
   "source": [
    "library(rpart.plot)\n",
    "rpart.plot(result, extra = 2)"
   ]
  },
  {
   "cell_type": "code",
   "execution_count": null,
   "metadata": {},
   "outputs": [],
   "source": []
  }
 ],
 "metadata": {
  "kernelspec": {
   "display_name": "R",
   "language": "R",
   "name": "ir"
  },
  "language_info": {
   "codemirror_mode": "r",
   "file_extension": ".r",
   "mimetype": "text/x-r-source",
   "name": "R",
   "pygments_lexer": "r",
   "version": "3.6.1"
  }
 },
 "nbformat": 4,
 "nbformat_minor": 4
}
