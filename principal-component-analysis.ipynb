{
 "cells": [
  {
   "cell_type": "code",
   "execution_count": null,
   "metadata": {},
   "outputs": [],
   "source": [
    "doc = 'name1 height weight\n",
    "A01 -1.56524758424985 -1.40226866642617\n",
    "A02 -1.34164078649987 -1.27322553761395\n",
    "A03 -1.11803398874989 -1.07966084439561\n",
    "A04 -0.894427190999916 -0.886096151177275\n",
    "A05 -0.670820393249937 -0.692531457958938\n",
    "A06 -0.447213595499958 -0.498966764740601\n",
    "A07 -0.223606797749979 -0.305402071522264\n",
    "A08 0 -0.111837378303927\n",
    "A09 0.223606797749979 0.146248879320522\n",
    "A10 0.447213595499958 0.339813572538859\n",
    "A11 0.670820393249937 0.597899830163308\n",
    "A12 0.894427190999916 0.855986087787758\n",
    "A13 1.11803398874989 1.11407234541221\n",
    "A14 1.34164078649987 1.43668016744277\n",
    "A15 1.56524758424985 1.75928798947333\n",
    "'"
   ]
  },
  {
   "cell_type": "code",
   "execution_count": null,
   "metadata": {},
   "outputs": [],
   "source": [
    "table = read.table(text = doc, header = T, row.names = 1)"
   ]
  },
  {
   "cell_type": "code",
   "execution_count": null,
   "metadata": {},
   "outputs": [],
   "source": [
    "p = prcomp(table)\n",
    "summary(p)"
   ]
  },
  {
   "cell_type": "code",
   "execution_count": null,
   "metadata": {},
   "outputs": [],
   "source": [
    "plot(p$x)\n",
    "text(p$x, rownames(table))"
   ]
  },
  {
   "cell_type": "code",
   "execution_count": null,
   "metadata": {},
   "outputs": [],
   "source": [
    "csv = \n",
    "'a, b, c, d, e\n",
    "50, 57, 74, 94, 112\n",
    "128, 140, 147, 150, 147\n",
    "140, 128, 112, 94, 74\n",
    "57, 57, 50, 57, 74\n",
    "94, 112, 128, 140, 147\n",
    "150, 147, 140, 128, 112\n",
    "94, 74, 74, 57, 50\n",
    "57, 74, 94, 112, 128\n",
    "140, 147, 150, 147, 140\n",
    "128, 112, 94, 94, 74\n",
    "57, 50, 57, 74, 94\n",
    "112, 128, 140, 147, 150\n",
    "147, 140, 128, 112, 112\n",
    "94, 74, 57, 50, 57\n",
    "74, 94, 112, 128, 140\n",
    "147, 150, 147, 140, 128\n",
    "'"
   ]
  },
  {
   "cell_type": "code",
   "execution_count": null,
   "metadata": {},
   "outputs": [],
   "source": [
    "# https://www1.doshisha.ac.jp/~mjin/R/Chap_24/24.html\n",
    "# 主成分分析は、変数が多いとき情報の損失を最小限に押さえながら少ない合成変数に縮約する方法であるため、\n",
    "# 再現されているのは元の変数、または個体間の相対的な関係に過ぎない\n",
    "table = read.csv(text = csv)\n",
    "table.pc = prcomp(table)"
   ]
  },
  {
   "cell_type": "code",
   "execution_count": null,
   "metadata": {},
   "outputs": [],
   "source": [
    "summary(table.pc) # 標準偏差は、各主成分得点の標準偏差で、固有値の正の平方根に等しい"
   ]
  },
  {
   "cell_type": "code",
   "execution_count": null,
   "metadata": {},
   "outputs": [],
   "source": [
    "table.pc$rotation # 主成分(固有ベクトル)"
   ]
  },
  {
   "cell_type": "code",
   "execution_count": null,
   "metadata": {},
   "outputs": [],
   "source": [
    "table.pc$x"
   ]
  },
  {
   "cell_type": "code",
   "execution_count": null,
   "metadata": {},
   "outputs": [],
   "source": [
    "plot(table.pc$x[,1], table.pc$x[,2]) # 再現されているのは元の変数、または個体間の相対的な関係"
   ]
  },
  {
   "cell_type": "code",
   "execution_count": null,
   "metadata": {},
   "outputs": [],
   "source": [
    "biplot(table.pc)"
   ]
  },
  {
   "cell_type": "code",
   "execution_count": null,
   "metadata": {},
   "outputs": [],
   "source": [
    "a = c(20, 25, 31, 35, 40, 45)\n",
    "b = cut(a, breaks = c(20, 30, 40, 50, 60), labels = c(\"2s\", \"3s\", \"4s\", \"5s\"), right = \n",
    "table(b)"
   ]
  },
  {
   "cell_type": "code",
   "execution_count": null,
   "metadata": {},
   "outputs": [],
   "source": [
    "plot(c(1, 2, 5), c(3, 4, 3), xlab = \"x\")"
   ]
  },
  {
   "cell_type": "code",
   "execution_count": null,
   "metadata": {},
   "outputs": [],
   "source": []
  }
 ],
 "metadata": {
  "kernelspec": {
   "display_name": "R",
   "language": "R",
   "name": "ir"
  },
  "language_info": {
   "codemirror_mode": "r",
   "file_extension": ".r",
   "mimetype": "text/x-r-source",
   "name": "R",
   "pygments_lexer": "r",
   "version": "3.6.1"
  }
 },
 "nbformat": 4,
 "nbformat_minor": 4
}
