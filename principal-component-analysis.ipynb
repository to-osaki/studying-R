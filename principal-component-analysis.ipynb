{
 "cells": [
  {
   "cell_type": "code",
   "execution_count": 7,
   "metadata": {},
   "outputs": [],
   "source": [
    "doc = 'name1 height weight\n",
    "A01 -1.56524758424985 -1.40226866642617\n",
    "A02 -1.34164078649987 -1.27322553761395\n",
    "A03 -1.11803398874989 -1.07966084439561\n",
    "A04 -0.894427190999916 -0.886096151177275\n",
    "A05 -0.670820393249937 -0.692531457958938\n",
    "A06 -0.447213595499958 -0.498966764740601\n",
    "A07 -0.223606797749979 -0.305402071522264\n",
    "A08 0 -0.111837378303927\n",
    "A09 0.223606797749979 0.146248879320522\n",
    "A10 0.447213595499958 0.339813572538859\n",
    "A11 0.670820393249937 0.597899830163308\n",
    "A12 0.894427190999916 0.855986087787758\n",
    "A13 1.11803398874989 1.11407234541221\n",
    "A14 1.34164078649987 1.43668016744277\n",
    "A15 1.56524758424985 1.75928798947333\n",
    "'"
   ]
  },
  {
   "cell_type": "code",
   "execution_count": 17,
   "metadata": {},
   "outputs": [],
   "source": [
    "table = read.table(text = doc, header = T, row.names = 1)"
   ]
  },
  {
   "cell_type": "code",
   "execution_count": 19,
   "metadata": {},
   "outputs": [
    {
     "data": {
      "text/plain": [
       "Importance of components:\n",
       "                          PC1     PC2\n",
       "Standard deviation     1.4126 0.06712\n",
       "Proportion of Variance 0.9978 0.00225\n",
       "Cumulative Proportion  0.9978 1.00000"
      ]
     },
     "metadata": {},
     "output_type": "display_data"
    }
   ],
   "source": [
    "p = prcomp(table)\n",
    "summary(p)"
   ]
  },
  {
   "cell_type": "code",
   "execution_count": 21,
   "metadata": {},
   "outputs": [
    {
     "data": {
      "image/png": "[encoded data removed]",
      "text/plain": [
       "plot without title"
      ]
     },
     "metadata": {},
     "output_type": "display_data"
    }
   ],
   "source": [
    "plot(p$x)\n",
    "text(p$x, rownames(table))"
   ]
  },
  {
   "cell_type": "code",
   "execution_count": 11,
   "metadata": {},
   "outputs": [],
   "source": [
    "csv = \n",
    "'a, b, c, d, e\n",
    "50, 57, 74, 94, 112\n",
    "128, 140, 147, 150, 147\n",
    "140, 128, 112, 94, 74\n",
    "57, 57, 50, 57, 74\n",
    "94, 112, 128, 140, 147\n",
    "150, 147, 140, 128, 112\n",
    "94, 74, 74, 57, 50\n",
    "57, 74, 94, 112, 128\n",
    "140, 147, 150, 147, 140\n",
    "128, 112, 94, 94, 74\n",
    "57, 50, 57, 74, 94\n",
    "112, 128, 140, 147, 150\n",
    "147, 140, 128, 112, 112\n",
    "94, 74, 57, 50, 57\n",
    "74, 94, 112, 128, 140\n",
    "147, 150, 147, 140, 128\n",
    "'"
   ]
  },
  {
   "cell_type": "code",
   "execution_count": 12,
   "metadata": {},
   "outputs": [],
   "source": [
    "# https://www1.doshisha.ac.jp/~mjin/R/Chap_24/24.html\n",
    "# 主成分分析は、変数が多いとき情報の損失を最小限に押さえながら少ない合成変数に縮約する方法であるため、\n",
    "# 再現されているのは元の変数、または個体間の相対的な関係に過ぎない\n",
    "table = read.csv(text = csv)\n",
    "table.pc = prcomp(table)"
   ]
  },
  {
   "cell_type": "code",
   "execution_count": 18,
   "metadata": {},
   "outputs": [
    {
     "data": {
      "text/plain": [
       "Importance of components:\n",
       "                           PC1     PC2     PC3     PC4     PC5\n",
       "Standard deviation     69.8093 37.2124 4.50990 3.09903 2.25394\n",
       "Proportion of Variance  0.7744  0.2200 0.00323 0.00153 0.00081\n",
       "Cumulative Proportion   0.7744  0.9944 0.99767 0.99919 1.00000"
      ]
     },
     "metadata": {},
     "output_type": "display_data"
    }
   ],
   "source": [
    "summary(table.pc) # 標準偏差は、各主成分得点の標準偏差で、固有値の正の平方根に等しい"
   ]
  },
  {
   "cell_type": "code",
   "execution_count": 20,
   "metadata": {},
   "outputs": [
    {
     "data": {
      "text/html": [
       "<table>\n",
       "<thead><tr><th></th><th scope=col>PC1</th><th scope=col>PC2</th><th scope=col>PC3</th><th scope=col>PC4</th><th scope=col>PC5</th></tr></thead>\n",
       "<tbody>\n",
       "\t<tr><th scope=row>a</th><td>0.4108016  </td><td>-0.61918763</td><td> 0.3371984 </td><td>-0.2247936 </td><td> 0.53255402</td></tr>\n",
       "\t<tr><th scope=row>b</th><td>0.4946971  </td><td>-0.29818560</td><td> 0.1742752 </td><td> 0.1184408 </td><td>-0.78864445</td></tr>\n",
       "\t<tr><th scope=row>c</th><td>0.5062812  </td><td> 0.03578022</td><td>-0.5796232 </td><td> 0.5806699 </td><td> 0.26317028</td></tr>\n",
       "\t<tr><th scope=row>d</th><td>0.4562916  </td><td> 0.35796136</td><td>-0.3372696 </td><td>-0.7407380 </td><td>-0.03490062</td></tr>\n",
       "\t<tr><th scope=row>e</th><td>0.3492767  </td><td> 0.63109069</td><td> 0.6373473 </td><td> 0.2226416 </td><td> 0.15475624</td></tr>\n",
       "</tbody>\n",
       "</table>\n"
      ],
      "text/latex": [
       "\\begin{tabular}{r|lllll}\n",
       "  & PC1 & PC2 & PC3 & PC4 & PC5\\\\\n",
       "\\hline\n",
       "\ta & 0.4108016   & -0.61918763 &  0.3371984  & -0.2247936  &  0.53255402\\\\\n",
       "\tb & 0.4946971   & -0.29818560 &  0.1742752  &  0.1184408  & -0.78864445\\\\\n",
       "\tc & 0.5062812   &  0.03578022 & -0.5796232  &  0.5806699  &  0.26317028\\\\\n",
       "\td & 0.4562916   &  0.35796136 & -0.3372696  & -0.7407380  & -0.03490062\\\\\n",
       "\te & 0.3492767   &  0.63109069 &  0.6373473  &  0.2226416  &  0.15475624\\\\\n",
       "\\end{tabular}\n"
      ],
      "text/markdown": [
       "\n",
       "| <!--/--> | PC1 | PC2 | PC3 | PC4 | PC5 |\n",
       "|---|---|---|---|---|---|\n",
       "| a | 0.4108016   | -0.61918763 |  0.3371984  | -0.2247936  |  0.53255402 |\n",
       "| b | 0.4946971   | -0.29818560 |  0.1742752  |  0.1184408  | -0.78864445 |\n",
       "| c | 0.5062812   |  0.03578022 | -0.5796232  |  0.5806699  |  0.26317028 |\n",
       "| d | 0.4562916   |  0.35796136 | -0.3372696  | -0.7407380  | -0.03490062 |\n",
       "| e | 0.3492767   |  0.63109069 |  0.6373473  |  0.2226416  |  0.15475624 |\n",
       "\n"
      ],
      "text/plain": [
       "  PC1       PC2         PC3        PC4        PC5        \n",
       "a 0.4108016 -0.61918763  0.3371984 -0.2247936  0.53255402\n",
       "b 0.4946971 -0.29818560  0.1742752  0.1184408 -0.78864445\n",
       "c 0.5062812  0.03578022 -0.5796232  0.5806699  0.26317028\n",
       "d 0.4562916  0.35796136 -0.3372696 -0.7407380 -0.03490062\n",
       "e 0.3492767  0.63109069  0.6373473  0.2226416  0.15475624"
      ]
     },
     "metadata": {},
     "output_type": "display_data"
    }
   ],
   "source": [
    "table.pc$rotation # 主成分(固有ベクトル)"
   ]
  },
  {
   "cell_type": "code",
   "execution_count": 21,
   "metadata": {},
   "outputs": [
    {
     "data": {
      "text/html": [
       "<table>\n",
       "<thead><tr><th scope=col>PC1</th><th scope=col>PC2</th><th scope=col>PC3</th><th scope=col>PC4</th><th scope=col>PC5</th></tr></thead>\n",
       "<tbody>\n",
       "\t<tr><td> -67.751967 </td><td> 44.0227457 </td><td> -1.1364400 </td><td>-1.45479217 </td><td> 1.567234097</td></tr>\n",
       "\t<tr><td>  80.085956 </td><td> 15.7226718 </td><td>  0.7374366 </td><td>-0.45807383 </td><td> 0.322422253</td></tr>\n",
       "\t<tr><td>  10.309846 </td><td>-55.4971170 </td><td> -4.6599276 </td><td> 0.32815993 </td><td>-2.376926776</td></tr>\n",
       "\t<tr><td>-107.182405 </td><td>  1.6036903 </td><td>  3.3946837 </td><td> 1.98250181 </td><td>-5.610388680</td></tr>\n",
       "\t<tr><td>  38.084923 </td><td> 40.8648104 </td><td> -1.2214761 </td><td> 0.24321693 </td><td>-0.353598879</td></tr>\n",
       "\t<tr><td>  66.779406 </td><td>-30.2005410 </td><td> -1.4541345 </td><td>-0.13535534 </td><td> 0.027252757</td></tr>\n",
       "\t<tr><td> -79.804785 </td><td>-40.6628586 </td><td>-10.3735902 </td><td> 4.27131228 </td><td> 3.289091240</td></tr>\n",
       "\t<tr><td> -32.539207 </td><td> 51.8756370 </td><td> -3.2791335 </td><td> 0.82752586 </td><td>-1.000549166</td></tr>\n",
       "\t<tr><td>  86.183487 </td><td>  0.8209427 </td><td>  0.8152515 </td><td> 0.07922158 </td><td> 1.003478337</td></tr>\n",
       "\t<tr><td> -11.647988 </td><td>-43.9399397 </td><td> -1.0614936 </td><td>-9.32142843 </td><td>-0.886328809</td></tr>\n",
       "\t<tr><td> -92.358826 </td><td> 22.6486081 </td><td>  5.1307576 </td><td>-2.92160946 </td><td> 4.254128729</td></tr>\n",
       "\t<tr><td>  63.711751 </td><td> 29.7768276 </td><td>  0.2321737 </td><td> 0.54278310 </td><td>-0.007930012</td></tr>\n",
       "\t<tr><td>  48.708082 </td><td>-32.4124233 </td><td>  8.6661364 </td><td> 4.59370928 </td><td> 1.350468473</td></tr>\n",
       "\t<tr><td> -89.160669 </td><td>-39.3592171 </td><td>  6.3023224 </td><td> 1.14358164 </td><td> 0.142794575</td></tr>\n",
       "\t<tr><td>   4.943409 </td><td> 49.3302492 </td><td> -2.2426214 </td><td> 0.64680045 </td><td>-1.684289862</td></tr>\n",
       "\t<tr><td>  81.638986 </td><td>-14.5940860 </td><td>  0.1500549 </td><td>-0.36755362 </td><td>-0.036858277</td></tr>\n",
       "</tbody>\n",
       "</table>\n"
      ],
      "text/latex": [
       "\\begin{tabular}{lllll}\n",
       " PC1 & PC2 & PC3 & PC4 & PC5\\\\\n",
       "\\hline\n",
       "\t  -67.751967  &  44.0227457  &  -1.1364400  & -1.45479217  &  1.567234097\\\\\n",
       "\t   80.085956  &  15.7226718  &   0.7374366  & -0.45807383  &  0.322422253\\\\\n",
       "\t   10.309846  & -55.4971170  &  -4.6599276  &  0.32815993  & -2.376926776\\\\\n",
       "\t -107.182405  &   1.6036903  &   3.3946837  &  1.98250181  & -5.610388680\\\\\n",
       "\t   38.084923  &  40.8648104  &  -1.2214761  &  0.24321693  & -0.353598879\\\\\n",
       "\t   66.779406  & -30.2005410  &  -1.4541345  & -0.13535534  &  0.027252757\\\\\n",
       "\t  -79.804785  & -40.6628586  & -10.3735902  &  4.27131228  &  3.289091240\\\\\n",
       "\t  -32.539207  &  51.8756370  &  -3.2791335  &  0.82752586  & -1.000549166\\\\\n",
       "\t   86.183487  &   0.8209427  &   0.8152515  &  0.07922158  &  1.003478337\\\\\n",
       "\t  -11.647988  & -43.9399397  &  -1.0614936  & -9.32142843  & -0.886328809\\\\\n",
       "\t  -92.358826  &  22.6486081  &   5.1307576  & -2.92160946  &  4.254128729\\\\\n",
       "\t   63.711751  &  29.7768276  &   0.2321737  &  0.54278310  & -0.007930012\\\\\n",
       "\t   48.708082  & -32.4124233  &   8.6661364  &  4.59370928  &  1.350468473\\\\\n",
       "\t  -89.160669  & -39.3592171  &   6.3023224  &  1.14358164  &  0.142794575\\\\\n",
       "\t    4.943409  &  49.3302492  &  -2.2426214  &  0.64680045  & -1.684289862\\\\\n",
       "\t   81.638986  & -14.5940860  &   0.1500549  & -0.36755362  & -0.036858277\\\\\n",
       "\\end{tabular}\n"
      ],
      "text/markdown": [
       "\n",
       "| PC1 | PC2 | PC3 | PC4 | PC5 |\n",
       "|---|---|---|---|---|\n",
       "|  -67.751967  |  44.0227457  |  -1.1364400  | -1.45479217  |  1.567234097 |\n",
       "|   80.085956  |  15.7226718  |   0.7374366  | -0.45807383  |  0.322422253 |\n",
       "|   10.309846  | -55.4971170  |  -4.6599276  |  0.32815993  | -2.376926776 |\n",
       "| -107.182405  |   1.6036903  |   3.3946837  |  1.98250181  | -5.610388680 |\n",
       "|   38.084923  |  40.8648104  |  -1.2214761  |  0.24321693  | -0.353598879 |\n",
       "|   66.779406  | -30.2005410  |  -1.4541345  | -0.13535534  |  0.027252757 |\n",
       "|  -79.804785  | -40.6628586  | -10.3735902  |  4.27131228  |  3.289091240 |\n",
       "|  -32.539207  |  51.8756370  |  -3.2791335  |  0.82752586  | -1.000549166 |\n",
       "|   86.183487  |   0.8209427  |   0.8152515  |  0.07922158  |  1.003478337 |\n",
       "|  -11.647988  | -43.9399397  |  -1.0614936  | -9.32142843  | -0.886328809 |\n",
       "|  -92.358826  |  22.6486081  |   5.1307576  | -2.92160946  |  4.254128729 |\n",
       "|   63.711751  |  29.7768276  |   0.2321737  |  0.54278310  | -0.007930012 |\n",
       "|   48.708082  | -32.4124233  |   8.6661364  |  4.59370928  |  1.350468473 |\n",
       "|  -89.160669  | -39.3592171  |   6.3023224  |  1.14358164  |  0.142794575 |\n",
       "|    4.943409  |  49.3302492  |  -2.2426214  |  0.64680045  | -1.684289862 |\n",
       "|   81.638986  | -14.5940860  |   0.1500549  | -0.36755362  | -0.036858277 |\n",
       "\n"
      ],
      "text/plain": [
       "      PC1         PC2         PC3         PC4         PC5         \n",
       " [1,]  -67.751967  44.0227457  -1.1364400 -1.45479217  1.567234097\n",
       " [2,]   80.085956  15.7226718   0.7374366 -0.45807383  0.322422253\n",
       " [3,]   10.309846 -55.4971170  -4.6599276  0.32815993 -2.376926776\n",
       " [4,] -107.182405   1.6036903   3.3946837  1.98250181 -5.610388680\n",
       " [5,]   38.084923  40.8648104  -1.2214761  0.24321693 -0.353598879\n",
       " [6,]   66.779406 -30.2005410  -1.4541345 -0.13535534  0.027252757\n",
       " [7,]  -79.804785 -40.6628586 -10.3735902  4.27131228  3.289091240\n",
       " [8,]  -32.539207  51.8756370  -3.2791335  0.82752586 -1.000549166\n",
       " [9,]   86.183487   0.8209427   0.8152515  0.07922158  1.003478337\n",
       "[10,]  -11.647988 -43.9399397  -1.0614936 -9.32142843 -0.886328809\n",
       "[11,]  -92.358826  22.6486081   5.1307576 -2.92160946  4.254128729\n",
       "[12,]   63.711751  29.7768276   0.2321737  0.54278310 -0.007930012\n",
       "[13,]   48.708082 -32.4124233   8.6661364  4.59370928  1.350468473\n",
       "[14,]  -89.160669 -39.3592171   6.3023224  1.14358164  0.142794575\n",
       "[15,]    4.943409  49.3302492  -2.2426214  0.64680045 -1.684289862\n",
       "[16,]   81.638986 -14.5940860   0.1500549 -0.36755362 -0.036858277"
      ]
     },
     "metadata": {},
     "output_type": "display_data"
    }
   ],
   "source": [
    "table.pc$x"
   ]
  },
  {
   "cell_type": "code",
   "execution_count": 24,
   "metadata": {},
   "outputs": [
    {
     "data": {
      "image/png": "[encoded data removed]",
      "text/plain": [
       "plot without title"
      ]
     },
     "metadata": {},
     "output_type": "display_data"
    }
   ],
   "source": [
    "plot(table.pc$x[,1], table.pc$x[,2]) # 再現されているのは元の変数、または個体間の相対的な関係"
   ]
  },
  {
   "cell_type": "code",
   "execution_count": 25,
   "metadata": {},
   "outputs": [
    {
     "data": {
      "image/png": "[encoded data removed]",
      "text/plain": [
       "plot without title"
      ]
     },
     "metadata": {},
     "output_type": "display_data"
    }
   ],
   "source": [
    "biplot(table.pc)"
   ]
  },
  {
   "cell_type": "code",
   "execution_count": null,
   "metadata": {},
   "outputs": [],
   "source": []
  }
 ],
 "metadata": {
  "kernelspec": {
   "display_name": "R",
   "language": "R",
   "name": "ir"
  },
  "language_info": {
   "codemirror_mode": "r",
   "file_extension": ".r",
   "mimetype": "text/x-r-source",
   "name": "R",
   "pygments_lexer": "r",
   "version": "3.6.1"
  }
 },
 "nbformat": 4,
 "nbformat_minor": 4
}
